{
  "nbformat": 4,
  "nbformat_minor": 0,
  "metadata": {
    "colab": {
      "name": "marriage_age_pred.ipynb",
      "provenance": [],
      "collapsed_sections": []
    },
    "kernelspec": {
      "name": "python3",
      "display_name": "Python 3"
    }
  },
  "cells": [
    {
      "cell_type": "code",
      "metadata": {
        "id": "6x_XUnV68WVJ",
        "colab_type": "code",
        "colab": {}
      },
      "source": [
        "import numpy as np\n",
        "import pandas as pd\n",
        "import matplotlib.pyplot as plt\n",
        "%matplotlib inline"
      ],
      "execution_count": 0,
      "outputs": []
    },
    {
      "cell_type": "code",
      "metadata": {
        "id": "1zwO2xvnL_Vx",
        "colab_type": "code",
        "outputId": "c3b22809-80e2-497e-bd53-a0bd6c623af3",
        "colab": {
          "base_uri": "https://localhost:8080/",
          "height": 272
        }
      },
      "source": [
        "df = pd.read_csv('/content/age_of_marriage_data.csv')\n",
        "df.head(5)"
      ],
      "execution_count": 57,
      "outputs": [
        {
          "output_type": "execute_result",
          "data": {
            "text/html": [
              "<div>\n",
              "<style scoped>\n",
              "    .dataframe tbody tr th:only-of-type {\n",
              "        vertical-align: middle;\n",
              "    }\n",
              "\n",
              "    .dataframe tbody tr th {\n",
              "        vertical-align: top;\n",
              "    }\n",
              "\n",
              "    .dataframe thead th {\n",
              "        text-align: right;\n",
              "    }\n",
              "</style>\n",
              "<table border=\"1\" class=\"dataframe\">\n",
              "  <thead>\n",
              "    <tr style=\"text-align: right;\">\n",
              "      <th></th>\n",
              "      <th>id</th>\n",
              "      <th>gender</th>\n",
              "      <th>height</th>\n",
              "      <th>religion</th>\n",
              "      <th>caste</th>\n",
              "      <th>mother_tongue</th>\n",
              "      <th>profession</th>\n",
              "      <th>location</th>\n",
              "      <th>country</th>\n",
              "      <th>age_of_marriage</th>\n",
              "    </tr>\n",
              "  </thead>\n",
              "  <tbody>\n",
              "    <tr>\n",
              "      <th>0</th>\n",
              "      <td>1</td>\n",
              "      <td>female</td>\n",
              "      <td>5'4\"</td>\n",
              "      <td>NaN</td>\n",
              "      <td>others</td>\n",
              "      <td>Telugu</td>\n",
              "      <td>NaN</td>\n",
              "      <td>London</td>\n",
              "      <td>United Kingdom</td>\n",
              "      <td>21.0</td>\n",
              "    </tr>\n",
              "    <tr>\n",
              "      <th>1</th>\n",
              "      <td>2</td>\n",
              "      <td>male</td>\n",
              "      <td>5'7\"</td>\n",
              "      <td>Jain</td>\n",
              "      <td>Shwetamber</td>\n",
              "      <td>Gujarati</td>\n",
              "      <td>Doctor / Healthcare Professional</td>\n",
              "      <td>Fairfax- VA</td>\n",
              "      <td>USA</td>\n",
              "      <td>32.0</td>\n",
              "    </tr>\n",
              "    <tr>\n",
              "      <th>2</th>\n",
              "      <td>3</td>\n",
              "      <td>male</td>\n",
              "      <td>5'7\"</td>\n",
              "      <td>Hindu</td>\n",
              "      <td>Brahmin</td>\n",
              "      <td>Hindi</td>\n",
              "      <td>Entrepreneurs / Business</td>\n",
              "      <td>Begusarai</td>\n",
              "      <td>India</td>\n",
              "      <td>32.0</td>\n",
              "    </tr>\n",
              "    <tr>\n",
              "      <th>3</th>\n",
              "      <td>4</td>\n",
              "      <td>female</td>\n",
              "      <td>5'0\"</td>\n",
              "      <td>Hindu</td>\n",
              "      <td>Thakur</td>\n",
              "      <td>Hindi</td>\n",
              "      <td>Architect</td>\n",
              "      <td>Mumbai</td>\n",
              "      <td>India</td>\n",
              "      <td>30.0</td>\n",
              "    </tr>\n",
              "    <tr>\n",
              "      <th>4</th>\n",
              "      <td>5</td>\n",
              "      <td>male</td>\n",
              "      <td>5'5\"</td>\n",
              "      <td>Christian</td>\n",
              "      <td>Born Again</td>\n",
              "      <td>Malayalam</td>\n",
              "      <td>Sales Professional / Marketing</td>\n",
              "      <td>Sulthan Bathery</td>\n",
              "      <td>India</td>\n",
              "      <td>30.0</td>\n",
              "    </tr>\n",
              "  </tbody>\n",
              "</table>\n",
              "</div>"
            ],
            "text/plain": [
              "   id  gender height  ...         location          country age_of_marriage\n",
              "0   1  female   5'4\"  ...           London   United Kingdom            21.0\n",
              "1   2    male   5'7\"  ...      Fairfax- VA              USA            32.0\n",
              "2   3    male   5'7\"  ...        Begusarai            India            32.0\n",
              "3   4  female   5'0\"  ...           Mumbai            India            30.0\n",
              "4   5    male   5'5\"  ...  Sulthan Bathery            India            30.0\n",
              "\n",
              "[5 rows x 10 columns]"
            ]
          },
          "metadata": {
            "tags": []
          },
          "execution_count": 57
        }
      ]
    },
    {
      "cell_type": "code",
      "metadata": {
        "id": "HvKKSki3R2bc",
        "colab_type": "code",
        "outputId": "5a2d0a5f-8511-4f74-e22d-839a5a5dca99",
        "colab": {
          "base_uri": "https://localhost:8080/",
          "height": 204
        }
      },
      "source": [
        "X = df.iloc[:,[1,2,3,4,5,6,8]]\n",
        "X.head(5)"
      ],
      "execution_count": 61,
      "outputs": [
        {
          "output_type": "execute_result",
          "data": {
            "text/html": [
              "<div>\n",
              "<style scoped>\n",
              "    .dataframe tbody tr th:only-of-type {\n",
              "        vertical-align: middle;\n",
              "    }\n",
              "\n",
              "    .dataframe tbody tr th {\n",
              "        vertical-align: top;\n",
              "    }\n",
              "\n",
              "    .dataframe thead th {\n",
              "        text-align: right;\n",
              "    }\n",
              "</style>\n",
              "<table border=\"1\" class=\"dataframe\">\n",
              "  <thead>\n",
              "    <tr style=\"text-align: right;\">\n",
              "      <th></th>\n",
              "      <th>gender</th>\n",
              "      <th>height</th>\n",
              "      <th>religion</th>\n",
              "      <th>caste</th>\n",
              "      <th>mother_tongue</th>\n",
              "      <th>profession</th>\n",
              "      <th>country</th>\n",
              "    </tr>\n",
              "  </thead>\n",
              "  <tbody>\n",
              "    <tr>\n",
              "      <th>0</th>\n",
              "      <td>female</td>\n",
              "      <td>5'4\"</td>\n",
              "      <td>NaN</td>\n",
              "      <td>others</td>\n",
              "      <td>Telugu</td>\n",
              "      <td>NaN</td>\n",
              "      <td>United Kingdom</td>\n",
              "    </tr>\n",
              "    <tr>\n",
              "      <th>1</th>\n",
              "      <td>male</td>\n",
              "      <td>5'7\"</td>\n",
              "      <td>Jain</td>\n",
              "      <td>Shwetamber</td>\n",
              "      <td>Gujarati</td>\n",
              "      <td>Doctor / Healthcare Professional</td>\n",
              "      <td>USA</td>\n",
              "    </tr>\n",
              "    <tr>\n",
              "      <th>2</th>\n",
              "      <td>male</td>\n",
              "      <td>5'7\"</td>\n",
              "      <td>Hindu</td>\n",
              "      <td>Brahmin</td>\n",
              "      <td>Hindi</td>\n",
              "      <td>Entrepreneurs / Business</td>\n",
              "      <td>India</td>\n",
              "    </tr>\n",
              "    <tr>\n",
              "      <th>3</th>\n",
              "      <td>female</td>\n",
              "      <td>5'0\"</td>\n",
              "      <td>Hindu</td>\n",
              "      <td>Thakur</td>\n",
              "      <td>Hindi</td>\n",
              "      <td>Architect</td>\n",
              "      <td>India</td>\n",
              "    </tr>\n",
              "    <tr>\n",
              "      <th>4</th>\n",
              "      <td>male</td>\n",
              "      <td>5'5\"</td>\n",
              "      <td>Christian</td>\n",
              "      <td>Born Again</td>\n",
              "      <td>Malayalam</td>\n",
              "      <td>Sales Professional / Marketing</td>\n",
              "      <td>India</td>\n",
              "    </tr>\n",
              "  </tbody>\n",
              "</table>\n",
              "</div>"
            ],
            "text/plain": [
              "   gender height  ...                        profession          country\n",
              "0  female   5'4\"  ...                               NaN   United Kingdom\n",
              "1    male   5'7\"  ...  Doctor / Healthcare Professional              USA\n",
              "2    male   5'7\"  ...         Entrepreneurs / Business             India\n",
              "3  female   5'0\"  ...                         Architect            India\n",
              "4    male   5'5\"  ...    Sales Professional / Marketing            India\n",
              "\n",
              "[5 rows x 7 columns]"
            ]
          },
          "metadata": {
            "tags": []
          },
          "execution_count": 61
        }
      ]
    },
    {
      "cell_type": "code",
      "metadata": {
        "id": "_qw4HP2LtTb9",
        "colab_type": "code",
        "outputId": "8da93696-2594-47a9-b4e7-c62581f0c237",
        "colab": {
          "base_uri": "https://localhost:8080/",
          "height": 34
        }
      },
      "source": [
        "y = df.age_of_marriage\n",
        "y.fillna(y.mean(),inplace=True)\n",
        "y.isnull().sum()"
      ],
      "execution_count": 62,
      "outputs": [
        {
          "output_type": "execute_result",
          "data": {
            "text/plain": [
              "0"
            ]
          },
          "metadata": {
            "tags": []
          },
          "execution_count": 62
        }
      ]
    },
    {
      "cell_type": "code",
      "metadata": {
        "id": "iYBGRlnjR_5d",
        "colab_type": "code",
        "outputId": "0ca252a3-fc54-42a8-c854-86308ae1cfb2",
        "colab": {
          "base_uri": "https://localhost:8080/",
          "height": 301
        }
      },
      "source": [
        "X['profession'].replace('Indian Police Services [IPS]','Indian Police Services (IPS)',inplace=True)\n",
        "X.replace(np.NaN,'0',True)\n",
        "X.head(2)"
      ],
      "execution_count": 63,
      "outputs": [
        {
          "output_type": "stream",
          "text": [
            "/usr/local/lib/python3.6/dist-packages/pandas/core/generic.py:6746: SettingWithCopyWarning: \n",
            "A value is trying to be set on a copy of a slice from a DataFrame\n",
            "\n",
            "See the caveats in the documentation: https://pandas.pydata.org/pandas-docs/stable/user_guide/indexing.html#returning-a-view-versus-a-copy\n",
            "  self._update_inplace(new_data)\n",
            "/usr/local/lib/python3.6/dist-packages/pandas/core/frame.py:4172: SettingWithCopyWarning: \n",
            "A value is trying to be set on a copy of a slice from a DataFrame\n",
            "\n",
            "See the caveats in the documentation: https://pandas.pydata.org/pandas-docs/stable/user_guide/indexing.html#returning-a-view-versus-a-copy\n",
            "  method=method,\n"
          ],
          "name": "stderr"
        },
        {
          "output_type": "execute_result",
          "data": {
            "text/html": [
              "<div>\n",
              "<style scoped>\n",
              "    .dataframe tbody tr th:only-of-type {\n",
              "        vertical-align: middle;\n",
              "    }\n",
              "\n",
              "    .dataframe tbody tr th {\n",
              "        vertical-align: top;\n",
              "    }\n",
              "\n",
              "    .dataframe thead th {\n",
              "        text-align: right;\n",
              "    }\n",
              "</style>\n",
              "<table border=\"1\" class=\"dataframe\">\n",
              "  <thead>\n",
              "    <tr style=\"text-align: right;\">\n",
              "      <th></th>\n",
              "      <th>gender</th>\n",
              "      <th>height</th>\n",
              "      <th>religion</th>\n",
              "      <th>caste</th>\n",
              "      <th>mother_tongue</th>\n",
              "      <th>profession</th>\n",
              "      <th>country</th>\n",
              "    </tr>\n",
              "  </thead>\n",
              "  <tbody>\n",
              "    <tr>\n",
              "      <th>0</th>\n",
              "      <td>female</td>\n",
              "      <td>5'4\"</td>\n",
              "      <td>0</td>\n",
              "      <td>others</td>\n",
              "      <td>Telugu</td>\n",
              "      <td>0</td>\n",
              "      <td>United Kingdom</td>\n",
              "    </tr>\n",
              "    <tr>\n",
              "      <th>1</th>\n",
              "      <td>male</td>\n",
              "      <td>5'7\"</td>\n",
              "      <td>Jain</td>\n",
              "      <td>Shwetamber</td>\n",
              "      <td>Gujarati</td>\n",
              "      <td>Doctor / Healthcare Professional</td>\n",
              "      <td>USA</td>\n",
              "    </tr>\n",
              "  </tbody>\n",
              "</table>\n",
              "</div>"
            ],
            "text/plain": [
              "   gender height  ...                        profession          country\n",
              "0  female   5'4\"  ...                                 0   United Kingdom\n",
              "1    male   5'7\"  ...  Doctor / Healthcare Professional              USA\n",
              "\n",
              "[2 rows x 7 columns]"
            ]
          },
          "metadata": {
            "tags": []
          },
          "execution_count": 63
        }
      ]
    },
    {
      "cell_type": "code",
      "metadata": {
        "id": "NwzrmBgVOpRy",
        "colab_type": "code",
        "outputId": "830102d6-8741-4564-92b3-4b7400e58bd9",
        "colab": {
          "base_uri": "https://localhost:8080/",
          "height": 207
        }
      },
      "source": [
        "from sklearn.preprocessing import LabelEncoder\n",
        "enc = LabelEncoder()\n",
        "X.loc[:,['gender','religion','caste','mother_tongue','profession','country']] = \\\n",
        "X.loc[:,['gender','religion','caste','mother_tongue','profession','country']].apply(enc.fit_transform)"
      ],
      "execution_count": 64,
      "outputs": [
        {
          "output_type": "stream",
          "text": [
            "/usr/local/lib/python3.6/dist-packages/pandas/core/indexing.py:671: SettingWithCopyWarning: \n",
            "A value is trying to be set on a copy of a slice from a DataFrame\n",
            "\n",
            "See the caveats in the documentation: https://pandas.pydata.org/pandas-docs/stable/user_guide/indexing.html#returning-a-view-versus-a-copy\n",
            "  self._setitem_with_indexer(indexer, value)\n",
            "/usr/local/lib/python3.6/dist-packages/ipykernel_launcher.py:3: SettingWithCopyWarning: \n",
            "A value is trying to be set on a copy of a slice from a DataFrame\n",
            "\n",
            "See the caveats in the documentation: https://pandas.pydata.org/pandas-docs/stable/user_guide/indexing.html#returning-a-view-versus-a-copy\n",
            "  This is separate from the ipykernel package so we can avoid doing imports until\n"
          ],
          "name": "stderr"
        }
      ]
    },
    {
      "cell_type": "code",
      "metadata": {
        "colab_type": "code",
        "outputId": "0ecb8204-a188-44d3-d6ed-22aba812b8f0",
        "id": "lo8LoKrbnU_-",
        "colab": {
          "base_uri": "https://localhost:8080/",
          "height": 301
        }
      },
      "source": [
        "X.replace(0,np.NaN,inplace=True)\n",
        "X.fillna(X.mean(),inplace=True)\n",
        "X.head(2)"
      ],
      "execution_count": 65,
      "outputs": [
        {
          "output_type": "stream",
          "text": [
            "/usr/local/lib/python3.6/dist-packages/pandas/core/frame.py:4172: SettingWithCopyWarning: \n",
            "A value is trying to be set on a copy of a slice from a DataFrame\n",
            "\n",
            "See the caveats in the documentation: https://pandas.pydata.org/pandas-docs/stable/user_guide/indexing.html#returning-a-view-versus-a-copy\n",
            "  method=method,\n",
            "/usr/local/lib/python3.6/dist-packages/pandas/core/generic.py:6245: SettingWithCopyWarning: \n",
            "A value is trying to be set on a copy of a slice from a DataFrame\n",
            "\n",
            "See the caveats in the documentation: https://pandas.pydata.org/pandas-docs/stable/user_guide/indexing.html#returning-a-view-versus-a-copy\n",
            "  self._update_inplace(new_data)\n"
          ],
          "name": "stderr"
        },
        {
          "output_type": "execute_result",
          "data": {
            "text/html": [
              "<div>\n",
              "<style scoped>\n",
              "    .dataframe tbody tr th:only-of-type {\n",
              "        vertical-align: middle;\n",
              "    }\n",
              "\n",
              "    .dataframe tbody tr th {\n",
              "        vertical-align: top;\n",
              "    }\n",
              "\n",
              "    .dataframe thead th {\n",
              "        text-align: right;\n",
              "    }\n",
              "</style>\n",
              "<table border=\"1\" class=\"dataframe\">\n",
              "  <thead>\n",
              "    <tr style=\"text-align: right;\">\n",
              "      <th></th>\n",
              "      <th>gender</th>\n",
              "      <th>height</th>\n",
              "      <th>religion</th>\n",
              "      <th>caste</th>\n",
              "      <th>mother_tongue</th>\n",
              "      <th>profession</th>\n",
              "      <th>country</th>\n",
              "    </tr>\n",
              "  </thead>\n",
              "  <tbody>\n",
              "    <tr>\n",
              "      <th>0</th>\n",
              "      <td>1.0</td>\n",
              "      <td>5'4\"</td>\n",
              "      <td>2.236025</td>\n",
              "      <td>42.0</td>\n",
              "      <td>25.0</td>\n",
              "      <td>44.831024</td>\n",
              "      <td>28.0</td>\n",
              "    </tr>\n",
              "    <tr>\n",
              "      <th>1</th>\n",
              "      <td>2.0</td>\n",
              "      <td>5'7\"</td>\n",
              "      <td>3.000000</td>\n",
              "      <td>34.0</td>\n",
              "      <td>7.0</td>\n",
              "      <td>23.000000</td>\n",
              "      <td>26.0</td>\n",
              "    </tr>\n",
              "  </tbody>\n",
              "</table>\n",
              "</div>"
            ],
            "text/plain": [
              "   gender height  religion  caste  mother_tongue  profession  country\n",
              "0     1.0   5'4\"  2.236025   42.0           25.0   44.831024     28.0\n",
              "1     2.0   5'7\"  3.000000   34.0            7.0   23.000000     26.0"
            ]
          },
          "metadata": {
            "tags": []
          },
          "execution_count": 65
        }
      ]
    },
    {
      "cell_type": "code",
      "metadata": {
        "id": "QAJVY-ddnXGQ",
        "colab_type": "code",
        "outputId": "3398dc8c-5fa9-4a24-a3dc-9e1a0ab05d2d",
        "colab": {
          "base_uri": "https://localhost:8080/",
          "height": 34
        }
      },
      "source": [
        "int(X.loc[1,'height'].split('\\'')[0])*30.48"
      ],
      "execution_count": 66,
      "outputs": [
        {
          "output_type": "execute_result",
          "data": {
            "text/plain": [
              "152.4"
            ]
          },
          "metadata": {
            "tags": []
          },
          "execution_count": 66
        }
      ]
    },
    {
      "cell_type": "code",
      "metadata": {
        "id": "Nn4vM3c7nZWD",
        "colab_type": "code",
        "outputId": "263aeba4-80a5-4b1b-fa04-922a37eaa75d",
        "colab": {
          "base_uri": "https://localhost:8080/",
          "height": 34
        }
      },
      "source": [
        "int(X.loc[1,'height'].split('\\'')[1].replace('\"',''))*2.54"
      ],
      "execution_count": 67,
      "outputs": [
        {
          "output_type": "execute_result",
          "data": {
            "text/plain": [
              "17.78"
            ]
          },
          "metadata": {
            "tags": []
          },
          "execution_count": 67
        }
      ]
    },
    {
      "cell_type": "code",
      "metadata": {
        "id": "ZBvjwmvloeo9",
        "colab_type": "code",
        "colab": {}
      },
      "source": [
        "def h_cms(h):\n",
        "    return (int(h.split('\\'')[0])*30.48 + int(h.split('\\'')[1].replace('\"',''))*2.54)"
      ],
      "execution_count": 0,
      "outputs": []
    },
    {
      "cell_type": "code",
      "metadata": {
        "id": "fbePQk2Yqzzk",
        "colab_type": "code",
        "outputId": "e612eeed-c496-4494-de5c-fa7178607806",
        "colab": {
          "base_uri": "https://localhost:8080/",
          "height": 34
        }
      },
      "source": [
        "X.iloc[:,1].replace('0','0\\'0\"',inplace=True)\n",
        "X.iloc[:,1].isnull().sum()"
      ],
      "execution_count": 69,
      "outputs": [
        {
          "output_type": "execute_result",
          "data": {
            "text/plain": [
              "0"
            ]
          },
          "metadata": {
            "tags": []
          },
          "execution_count": 69
        }
      ]
    },
    {
      "cell_type": "code",
      "metadata": {
        "id": "reKiRMlfndkh",
        "colab_type": "code",
        "outputId": "9e3a82ad-6541-4ea2-d47b-35eb793aa458",
        "colab": {
          "base_uri": "https://localhost:8080/",
          "height": 139
        }
      },
      "source": [
        "X.height = X.height.apply(h_cms)"
      ],
      "execution_count": 70,
      "outputs": [
        {
          "output_type": "stream",
          "text": [
            "/usr/local/lib/python3.6/dist-packages/pandas/core/generic.py:5303: SettingWithCopyWarning: \n",
            "A value is trying to be set on a copy of a slice from a DataFrame.\n",
            "Try using .loc[row_indexer,col_indexer] = value instead\n",
            "\n",
            "See the caveats in the documentation: https://pandas.pydata.org/pandas-docs/stable/user_guide/indexing.html#returning-a-view-versus-a-copy\n",
            "  self[name] = value\n"
          ],
          "name": "stderr"
        }
      ]
    },
    {
      "cell_type": "code",
      "metadata": {
        "id": "XqPrRsR3qWaY",
        "colab_type": "code",
        "outputId": "a1701472-f331-4108-d210-a83b2e0da45c",
        "colab": {
          "base_uri": "https://localhost:8080/",
          "height": 207
        }
      },
      "source": [
        "X.height.replace(0.0,np.NaN,inplace=True)\n",
        "X.height.fillna(X.height.mean(), inplace=True)"
      ],
      "execution_count": 71,
      "outputs": [
        {
          "output_type": "stream",
          "text": [
            "/usr/local/lib/python3.6/dist-packages/pandas/core/generic.py:6746: SettingWithCopyWarning: \n",
            "A value is trying to be set on a copy of a slice from a DataFrame\n",
            "\n",
            "See the caveats in the documentation: https://pandas.pydata.org/pandas-docs/stable/user_guide/indexing.html#returning-a-view-versus-a-copy\n",
            "  self._update_inplace(new_data)\n",
            "/usr/local/lib/python3.6/dist-packages/pandas/core/generic.py:6245: SettingWithCopyWarning: \n",
            "A value is trying to be set on a copy of a slice from a DataFrame\n",
            "\n",
            "See the caveats in the documentation: https://pandas.pydata.org/pandas-docs/stable/user_guide/indexing.html#returning-a-view-versus-a-copy\n",
            "  self._update_inplace(new_data)\n"
          ],
          "name": "stderr"
        }
      ]
    },
    {
      "cell_type": "code",
      "metadata": {
        "id": "kQUpnwIGcEFk",
        "colab_type": "code",
        "outputId": "7d34963b-6b4d-497b-e308-1c3d4ec08796",
        "colab": {
          "base_uri": "https://localhost:8080/",
          "height": 153
        }
      },
      "source": [
        "X.isnull().sum()"
      ],
      "execution_count": 72,
      "outputs": [
        {
          "output_type": "execute_result",
          "data": {
            "text/plain": [
              "gender           0\n",
              "height           0\n",
              "religion         0\n",
              "caste            0\n",
              "mother_tongue    0\n",
              "profession       0\n",
              "country          0\n",
              "dtype: int64"
            ]
          },
          "metadata": {
            "tags": []
          },
          "execution_count": 72
        }
      ]
    },
    {
      "cell_type": "code",
      "metadata": {
        "id": "kRxcfmaar7Uw",
        "colab_type": "code",
        "colab": {}
      },
      "source": [
        "from sklearn.model_selection import train_test_split\n",
        "from sklearn.ensemble import RandomForestRegressor\n",
        "from sklearn.linear_model import LinearRegression\n",
        "import xgboost as xgb\n",
        "from sklearn.ensemble import AdaBoostRegressor\n",
        "from sklearn.tree import DecisionTreeRegressor\n",
        "from sklearn.neighbors import KNeighborsRegressor\n",
        "from sklearn.svm import SVR\n",
        "\n",
        "\n",
        "from sklearn.metrics import mean_absolute_error, r2_score, mean_squared_error\n",
        "from sklearn.model_selection import GridSearchCV"
      ],
      "execution_count": 0,
      "outputs": []
    },
    {
      "cell_type": "code",
      "metadata": {
        "id": "eT-y3Lm2xWTc",
        "colab_type": "code",
        "colab": {}
      },
      "source": [
        "X_train,X_test,y_train,y_test = train_test_split(X, y, test_size=0.3, random_state=46)"
      ],
      "execution_count": 0,
      "outputs": []
    },
    {
      "cell_type": "code",
      "metadata": {
        "id": "J2SEjILnxttJ",
        "colab_type": "code",
        "colab": {}
      },
      "source": [
        "tuned_parameters = [{'max_depth':[5,10,15,20,25,30,35,40], 'n_estimators':[100,150,200,250,300,350,400,450]}]\n",
        "\n",
        "model = GridSearchCV(RandomForestRegressor(), tuned_parameters, cv=4, scoring='r2')\n",
        "model.fit(X_train,y_train)\n",
        "y_predict = model.predict(X_test)"
      ],
      "execution_count": 0,
      "outputs": []
    },
    {
      "cell_type": "code",
      "metadata": {
        "id": "SU7nhB-ByHAv",
        "colab_type": "code",
        "colab": {
          "base_uri": "https://localhost:8080/",
          "height": 85
        },
        "outputId": "fa5425e6-0363-473f-aa2c-a84636d8c328"
      },
      "source": [
        "print('MAE: ', mean_absolute_error(y_test,y_predict))\n",
        "print('MSE: ', mean_squared_error(y_test,y_predict))\n",
        "print('R2 Score: ', r2_score(y_test,y_predict))\n",
        "model.best_params_"
      ],
      "execution_count": 76,
      "outputs": [
        {
          "output_type": "stream",
          "text": [
            "MAE:  1.566596830380916\n",
            "MSE:  4.7663356447244585\n",
            "R2 Score:  0.4061871013899031\n"
          ],
          "name": "stdout"
        },
        {
          "output_type": "execute_result",
          "data": {
            "text/plain": [
              "{'max_depth': 10, 'n_estimators': 300}"
            ]
          },
          "metadata": {
            "tags": []
          },
          "execution_count": 76
        }
      ]
    },
    {
      "cell_type": "code",
      "metadata": {
        "id": "Dk3yq7zQp6Ua",
        "colab_type": "code",
        "outputId": "d04be1dd-8b8a-414f-c10a-9bdaf7931e9e",
        "colab": {
          "base_uri": "https://localhost:8080/",
          "height": 68
        }
      },
      "source": [
        "model = RandomForestRegressor(max_depth=10, n_estimators=300)\n",
        "model.fit(X_train, y_train)\n",
        "y_predict = model.predict(X_test)\n",
        "print('MAE: ', mean_absolute_error(y_test,y_predict))\n",
        "print('MSE: ', mean_squared_error(y_test,y_predict))\n",
        "print('R2 Score: ', r2_score(y_test,y_predict))"
      ],
      "execution_count": 77,
      "outputs": [
        {
          "output_type": "stream",
          "text": [
            "MAE:  1.5591096928545247\n",
            "MSE:  4.752581886038706\n",
            "R2 Score:  0.40790061045026693\n"
          ],
          "name": "stdout"
        }
      ]
    },
    {
      "cell_type": "code",
      "metadata": {
        "id": "-Axfey3BIs1G",
        "colab_type": "code",
        "outputId": "d247c94f-291c-47a9-c462-22c6cb4db285",
        "colab": {
          "base_uri": "https://localhost:8080/",
          "height": 34
        }
      },
      "source": [
        "from sklearn.externals import joblib\n",
        "joblib.dump(model, 'marriage_age_pred_model.ml')"
      ],
      "execution_count": 78,
      "outputs": [
        {
          "output_type": "execute_result",
          "data": {
            "text/plain": [
              "['marriage_age_pred_model.ml']"
            ]
          },
          "metadata": {
            "tags": []
          },
          "execution_count": 78
        }
      ]
    },
    {
      "cell_type": "code",
      "metadata": {
        "id": "xs3vG4dYI9iI",
        "colab_type": "code",
        "colab": {}
      },
      "source": [
        "model_load = joblib.load('marriage_age_pred_model.ml')"
      ],
      "execution_count": 0,
      "outputs": []
    },
    {
      "cell_type": "code",
      "metadata": {
        "id": "pcBzarQzKZ6u",
        "colab_type": "code",
        "outputId": "617f9210-3d2c-479c-da4c-325dcdf2ad7f",
        "colab": {
          "base_uri": "https://localhost:8080/",
          "height": 34
        }
      },
      "source": [
        "model_load.predict([[2,175,2,5,6,5,6]])"
      ],
      "execution_count": 81,
      "outputs": [
        {
          "output_type": "execute_result",
          "data": {
            "text/plain": [
              "array([29.37459848])"
            ]
          },
          "metadata": {
            "tags": []
          },
          "execution_count": 81
        }
      ]
    },
    {
      "cell_type": "code",
      "metadata": {
        "id": "DA3ek4vLK3O2",
        "colab_type": "code",
        "outputId": "3fde1b57-4eb8-4a28-8ac7-023d49249d96",
        "colab": {
          "base_uri": "https://localhost:8080/",
          "height": 204
        }
      },
      "source": [
        "X.head(5)"
      ],
      "execution_count": 82,
      "outputs": [
        {
          "output_type": "execute_result",
          "data": {
            "text/html": [
              "<div>\n",
              "<style scoped>\n",
              "    .dataframe tbody tr th:only-of-type {\n",
              "        vertical-align: middle;\n",
              "    }\n",
              "\n",
              "    .dataframe tbody tr th {\n",
              "        vertical-align: top;\n",
              "    }\n",
              "\n",
              "    .dataframe thead th {\n",
              "        text-align: right;\n",
              "    }\n",
              "</style>\n",
              "<table border=\"1\" class=\"dataframe\">\n",
              "  <thead>\n",
              "    <tr style=\"text-align: right;\">\n",
              "      <th></th>\n",
              "      <th>gender</th>\n",
              "      <th>height</th>\n",
              "      <th>religion</th>\n",
              "      <th>caste</th>\n",
              "      <th>mother_tongue</th>\n",
              "      <th>profession</th>\n",
              "      <th>country</th>\n",
              "    </tr>\n",
              "  </thead>\n",
              "  <tbody>\n",
              "    <tr>\n",
              "      <th>0</th>\n",
              "      <td>1.0</td>\n",
              "      <td>162.56</td>\n",
              "      <td>2.236025</td>\n",
              "      <td>42.0</td>\n",
              "      <td>25.0</td>\n",
              "      <td>44.831024</td>\n",
              "      <td>28.0</td>\n",
              "    </tr>\n",
              "    <tr>\n",
              "      <th>1</th>\n",
              "      <td>2.0</td>\n",
              "      <td>170.18</td>\n",
              "      <td>3.000000</td>\n",
              "      <td>34.0</td>\n",
              "      <td>7.0</td>\n",
              "      <td>23.000000</td>\n",
              "      <td>26.0</td>\n",
              "    </tr>\n",
              "    <tr>\n",
              "      <th>2</th>\n",
              "      <td>2.0</td>\n",
              "      <td>170.18</td>\n",
              "      <td>2.000000</td>\n",
              "      <td>14.0</td>\n",
              "      <td>9.0</td>\n",
              "      <td>26.000000</td>\n",
              "      <td>8.0</td>\n",
              "    </tr>\n",
              "    <tr>\n",
              "      <th>3</th>\n",
              "      <td>1.0</td>\n",
              "      <td>152.40</td>\n",
              "      <td>2.000000</td>\n",
              "      <td>36.0</td>\n",
              "      <td>9.0</td>\n",
              "      <td>8.000000</td>\n",
              "      <td>8.0</td>\n",
              "    </tr>\n",
              "    <tr>\n",
              "      <th>4</th>\n",
              "      <td>2.0</td>\n",
              "      <td>165.10</td>\n",
              "      <td>1.000000</td>\n",
              "      <td>13.0</td>\n",
              "      <td>14.0</td>\n",
              "      <td>70.000000</td>\n",
              "      <td>8.0</td>\n",
              "    </tr>\n",
              "  </tbody>\n",
              "</table>\n",
              "</div>"
            ],
            "text/plain": [
              "   gender  height  religion  caste  mother_tongue  profession  country\n",
              "0     1.0  162.56  2.236025   42.0           25.0   44.831024     28.0\n",
              "1     2.0  170.18  3.000000   34.0            7.0   23.000000     26.0\n",
              "2     2.0  170.18  2.000000   14.0            9.0   26.000000      8.0\n",
              "3     1.0  152.40  2.000000   36.0            9.0    8.000000      8.0\n",
              "4     2.0  165.10  1.000000   13.0           14.0   70.000000      8.0"
            ]
          },
          "metadata": {
            "tags": []
          },
          "execution_count": 82
        }
      ]
    }
  ]
}